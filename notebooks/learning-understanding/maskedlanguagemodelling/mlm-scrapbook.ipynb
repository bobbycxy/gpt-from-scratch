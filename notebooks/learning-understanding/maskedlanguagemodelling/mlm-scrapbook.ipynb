{
 "cells": [
  {
   "cell_type": "code",
   "execution_count": 1,
   "metadata": {},
   "outputs": [],
   "source": [
    "\n",
    "import torch\n",
    "input_tokens = torch.tensor([\n",
    "    [0, 1, 2, 3, 4, 5, 6, 7, 4999, 4999],\n",
    "    [0, 1, 2, 3, 4, 5, 6, 7, 8, 9],\n",
    "])\n",
    "\n",
    "def generate_random_token_ids(shape, vocab_size, pad_token_id, mask_token_id):\n",
    "    random_token_ids = torch.randint(0, vocab_size, shape)\n",
    "    # Ensure random_token_ids do not contain pad_token_id or mask_token_id\n",
    "    invalid_ids = {pad_token_id, mask_token_id}\n",
    "    for i in range(random_token_ids.numel()):\n",
    "        while random_token_ids.view(-1)[i].item() in invalid_ids:\n",
    "            random_token_ids.view(-1)[i] = torch.randint(0, vocab_size, (1,))\n",
    "    return random_token_ids\n",
    "\n",
    "def masked_lm(input_ids, mlm_prob = 0.15, pad_token_id = 4999, mask_token_id = 5000, vocab_size = 10000):\n",
    "    '''\n",
    "    Masked language model\n",
    "    '''\n",
    "    mask = torch.rand(input_ids.size()) < mlm_prob # create a mask of true and false\n",
    "    mask &= input_ids != pad_token_id # do not mask padding\n",
    "    mask &= input_ids != mask_token_id # do not mask mask token\n",
    "\n",
    "    ## create clones\n",
    "    mlm_data = input_ids.clone()\n",
    "    labels = input_ids.clone()\n",
    "\n",
    "    ## get the indices of the mask\n",
    "    mask_idx = mask.nonzero(as_tuple=True)\n",
    "\n",
    "    ## randomly mask tokens\n",
    "    mask_idx_shuffle = torch.randperm(mask_idx[0].shape[0])\n",
    "\n",
    "    ## get the tokens for each type of masking (mask, random, keep)\n",
    "    tomask_idx = mask_idx_shuffle[:int(mask_idx[0].shape[0] * 0.8)]\n",
    "    torandom_idx = mask_idx_shuffle[int(mask_idx[0].shape[0] * 0.9):]\n",
    "\n",
    "    ## mask the tokens\n",
    "    mlm_data[mask_idx[0][tomask_idx], mask_idx[1][tomask_idx]] = mask_token_id\n",
    "    mlm_data[mask_idx[0][torandom_idx], mask_idx[1][torandom_idx]] = generate_random_token_ids((torandom_idx.shape[0],), vocab_size, pad_token_id, mask_token_id) #@ this mask token is not in the vocab\n",
    "\n",
    "    ## create the labels\n",
    "    labels[~mask] = -100\n",
    "\n",
    "    return mlm_data, labels "
   ]
  },
  {
   "cell_type": "code",
   "execution_count": 3,
   "metadata": {},
   "outputs": [
    {
     "name": "stdout",
     "output_type": "stream",
     "text": [
      "Input Tensor...\n",
      "tensor([[14, 22, 29, 15,  8],\n",
      "        [26,  7, 17,  3, 18],\n",
      "        [ 8, 17,  4, 26, 12],\n",
      "        [23, 25, 26, 22, 15],\n",
      "        [28,  8, 13, 21,  6]])\n",
      "Masked Language Model...\n",
      "MLM data...\n",
      "tensor([[ 1,  6, 29, 15,  8],\n",
      "        [ 1,  7, 17,  3, 18],\n",
      "        [ 8, 17,  4,  1, 12],\n",
      "        [23, 25,  1, 22, 15],\n",
      "        [28,  8,  1, 21,  1]])\n",
      "Labels...\n",
      "tensor([[  14,   22, -100, -100, -100],\n",
      "        [  26, -100, -100, -100, -100],\n",
      "        [-100, -100, -100,   26, -100],\n",
      "        [-100, -100,   26, -100, -100],\n",
      "        [-100, -100,   13,   21,    6]])\n"
     ]
    }
   ],
   "source": [
    "input_tensor = torch.randint(2, 30, (5,5))\n",
    "print('Input Tensor...')\n",
    "print(input_tensor)\n",
    "\n",
    "print('Masked Language Model...')\n",
    "res = masked_lm(input_tensor, mlm_prob = 0.5, pad_token_id = 0, mask_token_id = 1, vocab_size = 30)\n",
    "print('MLM data...')    \n",
    "print(res[0])\n",
    "print('Labels...')\n",
    "print(res[1])"
   ]
  },
  {
   "cell_type": "markdown",
   "metadata": {},
   "source": [
    "(assuming that you did not execute the above)\n",
    "\n",
    "From the above example, observe how the labels matrix retains the true values of the original input tensor for the indices that are masked. Indices that are not masked are placed as -100. This is so that the cross_entropy calculation will ignore the labels that have values -100. The main output is actually the X (the MLM data). Observe the following 3 groups.\n",
    "\n",
    "Group 1: indexes (0,0), (1,0), (2,3), (3,2), (4,2), (4,4) are masked as '1's\n",
    "Group 2: index (0,1) has been randomly replaced with a value that is not in the special tokens (6 -> 22)\n",
    "Group 3: index (4,3) has been kept as it is (21 stays as 21)"
   ]
  },
  {
   "cell_type": "code",
   "execution_count": null,
   "metadata": {},
   "outputs": [],
   "source": [
    "## from the above example,\n",
    "##"
   ]
  },
  {
   "cell_type": "code",
   "execution_count": null,
   "metadata": {},
   "outputs": [],
   "source": []
  },
  {
   "cell_type": "code",
   "execution_count": null,
   "metadata": {},
   "outputs": [],
   "source": []
  },
  {
   "cell_type": "code",
   "execution_count": 41,
   "metadata": {},
   "outputs": [
    {
     "data": {
      "text/plain": [
       "tensor([[25, 72],\n",
       "        [32,  9],\n",
       "        [30, 19],\n",
       "        [85, 49],\n",
       "        [75, 22],\n",
       "        [74, 72],\n",
       "        [12, 90],\n",
       "        [27, 64],\n",
       "        [21, 53],\n",
       "        [61, 50]])"
      ]
     },
     "execution_count": 41,
     "metadata": {},
     "output_type": "execute_result"
    }
   ],
   "source": [
    "torch.randint(100, (10,2))"
   ]
  },
  {
   "cell_type": "code",
   "execution_count": 18,
   "metadata": {},
   "outputs": [],
   "source": [
    "_, _, shape = masked_lm(torch.randint(0, 10000, (10,10)))"
   ]
  },
  {
   "cell_type": "code",
   "execution_count": 19,
   "metadata": {},
   "outputs": [],
   "source": [
    "def generate_random_token_ids(shape, vocab_size, pad_token_id, mask_token_id):\n",
    "    random_token_ids = torch.randint(vocab_size, shape)\n",
    "    for i in range(num_tokens):\n",
    "        while random_token_ids[i].item() in [pad_token_id, mask_token_id]:\n",
    "            random_token_ids[i] = torch.randint(vocab_size, (1,))\n",
    "    return random_token_ids"
   ]
  },
  {
   "cell_type": "code",
   "execution_count": 43,
   "metadata": {},
   "outputs": [
    {
     "ename": "TypeError",
     "evalue": "'tuple' object cannot be interpreted as an integer",
     "output_type": "error",
     "traceback": [
      "\u001b[0;31m---------------------------------------------------------------------------\u001b[0m",
      "\u001b[0;31mTypeError\u001b[0m                                 Traceback (most recent call last)",
      "Cell \u001b[0;32mIn[43], line 3\u001b[0m\n\u001b[1;32m      1\u001b[0m random_token_ids \u001b[38;5;241m=\u001b[39m torch\u001b[38;5;241m.\u001b[39mrandint(\u001b[38;5;241m10000\u001b[39m, (\u001b[38;5;241m10\u001b[39m,\u001b[38;5;241m2\u001b[39m))\n\u001b[1;32m      2\u001b[0m \u001b[38;5;66;03m## writing a for function for each token in the shape\u001b[39;00m\n\u001b[0;32m----> 3\u001b[0m \u001b[38;5;28;01mfor\u001b[39;00m i \u001b[38;5;129;01min\u001b[39;00m \u001b[38;5;28mrange\u001b[39m(shape):\n\u001b[1;32m      4\u001b[0m     \u001b[38;5;28;01mwhile\u001b[39;00m random_token_ids[i]\u001b[38;5;241m.\u001b[39mitem() \u001b[38;5;129;01min\u001b[39;00m [\u001b[38;5;241m4999\u001b[39m, \u001b[38;5;241m5000\u001b[39m]:\n\u001b[1;32m      5\u001b[0m         random_token_ids[i] \u001b[38;5;241m=\u001b[39m torch\u001b[38;5;241m.\u001b[39mrandint(\u001b[38;5;241m10000\u001b[39m, (\u001b[38;5;241m1\u001b[39m,))\n",
      "\u001b[0;31mTypeError\u001b[0m: 'tuple' object cannot be interpreted as an integer"
     ]
    }
   ],
   "source": [
    "random_token_ids = torch.randint(10000, (10,2))\n",
    "## writing a for function for each token in the shape\n",
    "for i in range(shape[0]):\n",
    "    \n",
    "    while random_token_ids[i].item() in [4999, 5000]:\n",
    "        random_token_ids[i] = torch.randint(10000, (1,))"
   ]
  },
  {
   "cell_type": "code",
   "execution_count": 44,
   "metadata": {},
   "outputs": [],
   "source": [
    "def generate_random_token_ids(shape, vocab_size, pad_token_id, mask_token_id):\n",
    "    random_token_ids = torch.randint(vocab_size, shape)\n",
    "    mask_pad_ids = torch.tensor([pad_token_id, mask_token_id])\n",
    "    \n",
    "    for idx in torch.where(torch.isin(random_token_ids, mask_pad_ids))[0]:\n",
    "        while random_token_ids.view(-1)[idx] in mask_pad_ids:\n",
    "            random_token_ids.view(-1)[idx] = torch.randint(vocab_size, (1,))\n",
    "    \n",
    "    return random_token_ids"
   ]
  },
  {
   "cell_type": "code",
   "execution_count": 117,
   "metadata": {},
   "outputs": [],
   "source": [
    "random_token_ids = torch.randint(10, (10,10))\n",
    "mask_pad_ids = torch.tensor([0, 1])\n"
   ]
  },
  {
   "cell_type": "code",
   "execution_count": 118,
   "metadata": {},
   "outputs": [
    {
     "data": {
      "text/plain": [
       "tensor([[5, 2, 5, 5, 7, 4, 8, 1, 4, 1],\n",
       "        [5, 8, 7, 0, 1, 9, 4, 8, 7, 1],\n",
       "        [6, 0, 6, 9, 5, 6, 4, 2, 0, 3],\n",
       "        [5, 3, 2, 3, 9, 0, 5, 3, 9, 9],\n",
       "        [2, 5, 7, 0, 8, 8, 2, 2, 8, 6],\n",
       "        [4, 9, 8, 6, 5, 4, 1, 4, 3, 1],\n",
       "        [0, 4, 6, 6, 5, 1, 3, 2, 3, 0],\n",
       "        [1, 7, 1, 1, 9, 4, 4, 2, 5, 6],\n",
       "        [5, 9, 8, 6, 1, 3, 2, 4, 7, 2],\n",
       "        [3, 8, 7, 3, 6, 8, 6, 1, 1, 5]])"
      ]
     },
     "execution_count": 118,
     "metadata": {},
     "output_type": "execute_result"
    }
   ],
   "source": [
    "random_token_ids"
   ]
  },
  {
   "cell_type": "code",
   "execution_count": 119,
   "metadata": {},
   "outputs": [
    {
     "name": "stdout",
     "output_type": "stream",
     "text": [
      "tensor([0, 0, 1, 1, 1, 2, 2, 3, 4, 5, 5, 6, 6, 6, 7, 7, 7, 8, 9, 9])\n",
      "tensor([7, 9, 3, 4, 9, 1, 8, 5, 3, 6, 9, 0, 5, 9, 0, 2, 3, 4, 7, 8])\n"
     ]
    }
   ],
   "source": [
    "for idx in torch.where(torch.isin(random_token_ids, mask_pad_ids)):\n",
    "    print(idx)"
   ]
  },
  {
   "cell_type": "code",
   "execution_count": 120,
   "metadata": {},
   "outputs": [
    {
     "data": {
      "text/plain": [
       "tensor([0, 1])"
      ]
     },
     "execution_count": 120,
     "metadata": {},
     "output_type": "execute_result"
    }
   ],
   "source": [
    "mask_pad_ids"
   ]
  },
  {
   "cell_type": "code",
   "execution_count": 123,
   "metadata": {},
   "outputs": [],
   "source": [
    "to_replace = random_token_ids[torch.where(torch.isin(random_token_ids, mask_pad_ids))] \n",
    "\n",
    "for i in range(len(to_replace)):\n",
    "    while to_replace.view(-1)[i] in mask_pad_ids:\n",
    "        to_replace.view(-1)[i] = torch.randint(1000, (1,))\n"
   ]
  },
  {
   "cell_type": "code",
   "execution_count": 124,
   "metadata": {},
   "outputs": [
    {
     "data": {
      "text/plain": [
       "tensor([116, 263,  24, 988,  54, 797, 479, 696, 842, 238, 112,  93, 123, 796,\n",
       "         77, 352, 487, 966, 373, 918])"
      ]
     },
     "execution_count": 124,
     "metadata": {},
     "output_type": "execute_result"
    }
   ],
   "source": [
    "to_replace"
   ]
  },
  {
   "cell_type": "code",
   "execution_count": 125,
   "metadata": {},
   "outputs": [
    {
     "name": "stdout",
     "output_type": "stream",
     "text": [
      "tensor(1)\n",
      "tensor(1)\n",
      "tensor(0)\n",
      "tensor(1)\n",
      "tensor(1)\n",
      "tensor(0)\n",
      "tensor(0)\n",
      "tensor(0)\n",
      "tensor(0)\n",
      "tensor(1)\n",
      "tensor(1)\n",
      "tensor(0)\n",
      "tensor(1)\n",
      "tensor(0)\n",
      "tensor(1)\n",
      "tensor(1)\n",
      "tensor(1)\n",
      "tensor(1)\n",
      "tensor(1)\n",
      "tensor(1)\n"
     ]
    }
   ],
   "source": [
    "for i in random_token_ids[torch.where(torch.isin(random_token_ids, mask_pad_ids))]:\n",
    "    print(i)"
   ]
  },
  {
   "cell_type": "code",
   "execution_count": 126,
   "metadata": {},
   "outputs": [],
   "source": [
    "def generate_random_token_ids(shape, vocab_size, pad_token_id, mask_token_id):\n",
    "    random_token_ids = torch.randint(vocab_size, shape)\n",
    "    mask_pad_ids = torch.tensor([pad_token_id, mask_token_id])\n",
    "    \n",
    "    for value in random_token_ids[torch.where(torch.isin(random_token_ids, mask_pad_ids))] :\n",
    "        while value in mask_pad_ids:\n",
    "            value = torch.randint(vocab_size, (1,))\n",
    "    \n",
    "    return random_token_ids"
   ]
  },
  {
   "cell_type": "code",
   "execution_count": 128,
   "metadata": {},
   "outputs": [
    {
     "data": {
      "text/plain": [
       "tensor([[3, 0],\n",
       "        [6, 4],\n",
       "        [3, 6],\n",
       "        [7, 8],\n",
       "        [4, 7],\n",
       "        [9, 5],\n",
       "        [5, 1],\n",
       "        [9, 7],\n",
       "        [9, 8],\n",
       "        [9, 1]])"
      ]
     },
     "execution_count": 128,
     "metadata": {},
     "output_type": "execute_result"
    }
   ],
   "source": [
    "generate_random_token_ids((10,2), 10, 0, 1)"
   ]
  },
  {
   "cell_type": "code",
   "execution_count": 129,
   "metadata": {},
   "outputs": [],
   "source": [
    "random_token_ids = torch.randint(10, (10,2))\n",
    "mask_pad_ids = torch.tensor([0, 1])"
   ]
  },
  {
   "cell_type": "code",
   "execution_count": 132,
   "metadata": {},
   "outputs": [
    {
     "data": {
      "text/plain": [
       "tensor([[1, 3],\n",
       "        [1, 6],\n",
       "        [8, 8],\n",
       "        [0, 2],\n",
       "        [5, 4],\n",
       "        [2, 2],\n",
       "        [5, 7],\n",
       "        [8, 2],\n",
       "        [7, 4],\n",
       "        [2, 3]])"
      ]
     },
     "execution_count": 132,
     "metadata": {},
     "output_type": "execute_result"
    }
   ],
   "source": [
    "random_token_ids"
   ]
  },
  {
   "cell_type": "code",
   "execution_count": 131,
   "metadata": {},
   "outputs": [
    {
     "name": "stdout",
     "output_type": "stream",
     "text": [
      "tensor(1)\n",
      "tensor(1)\n",
      "tensor(0)\n"
     ]
    }
   ],
   "source": [
    "for value in random_token_ids[torch.where(torch.isin(random_token_ids, mask_pad_ids))] :\n",
    "    print(value)"
   ]
  },
  {
   "cell_type": "code",
   "execution_count": 133,
   "metadata": {},
   "outputs": [
    {
     "data": {
      "text/plain": [
       "True"
      ]
     },
     "execution_count": 133,
     "metadata": {},
     "output_type": "execute_result"
    }
   ],
   "source": [
    "value in mask_pad_ids"
   ]
  },
  {
   "cell_type": "code",
   "execution_count": 142,
   "metadata": {},
   "outputs": [
    {
     "data": {
      "text/plain": [
       "tensor([8])"
      ]
     },
     "execution_count": 142,
     "metadata": {},
     "output_type": "execute_result"
    }
   ],
   "source": [
    "torch.randint(10, (1,))"
   ]
  },
  {
   "cell_type": "code",
   "execution_count": 143,
   "metadata": {},
   "outputs": [],
   "source": [
    "for value in random_token_ids[torch.where(torch.isin(random_token_ids, mask_pad_ids))] :\n",
    "    while value in mask_pad_ids:\n",
    "        value = torch.randint(10, (1,))"
   ]
  },
  {
   "cell_type": "code",
   "execution_count": 144,
   "metadata": {},
   "outputs": [
    {
     "data": {
      "text/plain": [
       "tensor([[1, 3],\n",
       "        [1, 6],\n",
       "        [8, 8],\n",
       "        [0, 2],\n",
       "        [5, 4],\n",
       "        [2, 2],\n",
       "        [5, 7],\n",
       "        [8, 2],\n",
       "        [7, 4],\n",
       "        [2, 3]])"
      ]
     },
     "execution_count": 144,
     "metadata": {},
     "output_type": "execute_result"
    }
   ],
   "source": [
    "random_token_ids"
   ]
  },
  {
   "cell_type": "code",
   "execution_count": null,
   "metadata": {},
   "outputs": [],
   "source": []
  },
  {
   "cell_type": "code",
   "execution_count": null,
   "metadata": {},
   "outputs": [],
   "source": []
  },
  {
   "cell_type": "code",
   "execution_count": null,
   "metadata": {},
   "outputs": [],
   "source": []
  },
  {
   "cell_type": "code",
   "execution_count": 145,
   "metadata": {},
   "outputs": [],
   "source": [
    "def generate_random_token_ids(shape, vocab_size, pad_token_id, mask_token_id):\n",
    "    random_token_ids = torch.randint(0, vocab_size, shape)\n",
    "    # Ensure random_token_ids do not contain pad_token_id or mask_token_id\n",
    "    invalid_ids = {pad_token_id, mask_token_id}\n",
    "    for i in range(random_token_ids.numel()):\n",
    "        while random_token_ids.view(-1)[i].item() in invalid_ids:\n",
    "            random_token_ids.view(-1)[i] = torch.randint(0, vocab_size, (1,))\n",
    "    return random_token_ids"
   ]
  },
  {
   "cell_type": "code",
   "execution_count": 165,
   "metadata": {},
   "outputs": [
    {
     "data": {
      "text/plain": [
       "tensor([[1, 1],\n",
       "        [1, 1],\n",
       "        [1, 1],\n",
       "        [1, 1],\n",
       "        [1, 1],\n",
       "        [1, 1],\n",
       "        [1, 1],\n",
       "        [1, 1],\n",
       "        [1, 1],\n",
       "        [1, 1]])"
      ]
     },
     "execution_count": 165,
     "metadata": {},
     "output_type": "execute_result"
    }
   ],
   "source": [
    "generate_random_token_ids((10,2), 3, 0, 2)"
   ]
  },
  {
   "cell_type": "code",
   "execution_count": 168,
   "metadata": {},
   "outputs": [
    {
     "name": "stdout",
     "output_type": "stream",
     "text": [
      "0\n",
      "1\n",
      "2\n",
      "3\n",
      "4\n",
      "5\n",
      "6\n",
      "7\n",
      "8\n",
      "9\n",
      "10\n",
      "11\n",
      "12\n",
      "13\n",
      "14\n",
      "15\n",
      "16\n",
      "17\n",
      "18\n",
      "19\n"
     ]
    }
   ],
   "source": [
    "for i in range(random_token_ids.numel()):\n",
    "    print(i)"
   ]
  },
  {
   "cell_type": "code",
   "execution_count": null,
   "metadata": {},
   "outputs": [],
   "source": []
  },
  {
   "cell_type": "code",
   "execution_count": null,
   "metadata": {},
   "outputs": [],
   "source": []
  },
  {
   "cell_type": "code",
   "execution_count": null,
   "metadata": {},
   "outputs": [],
   "source": []
  },
  {
   "cell_type": "code",
   "execution_count": null,
   "metadata": {},
   "outputs": [],
   "source": []
  },
  {
   "cell_type": "code",
   "execution_count": 97,
   "metadata": {},
   "outputs": [],
   "source": [
    "random_token_ids[torch.where(torch.isin(random_token_ids, mask_pad_ids))] = torch.randint(10, (1,))"
   ]
  },
  {
   "cell_type": "code",
   "execution_count": 107,
   "metadata": {},
   "outputs": [
    {
     "data": {
      "text/plain": [
       "(22,)"
      ]
     },
     "execution_count": 107,
     "metadata": {},
     "output_type": "execute_result"
    }
   ],
   "source": [
    "(torch.where(torch.isin(random_token_ids, mask_pad_ids))[0].shape[0],)"
   ]
  },
  {
   "cell_type": "code",
   "execution_count": 98,
   "metadata": {},
   "outputs": [
    {
     "data": {
      "text/plain": [
       "tensor([[   2,    9,    2,    5,    5, 8999,    3,    5, 8999,    5],\n",
       "        [   9,    2,    6, 8999,    5,    6, 8999,    8, 8999,    4],\n",
       "        [   2,    7, 8999,    8,    4, 8999,    5,    5,    7,    4],\n",
       "        [   9,    3,    4,    6,    6, 8999,    5,    7,    4,    7],\n",
       "        [   6,    5,    3,    8,    6, 8999,    8, 8999,    6,    5],\n",
       "        [   6,    8,    4, 8999,    5, 8999,    7,    3,    7,    9],\n",
       "        [8999, 8999,    6, 8999,    7,    6,    2, 8999,    8,    6],\n",
       "        [   9, 8999,    5,    9,    4, 8999,    8,    7, 8999,    2],\n",
       "        [   8, 8999,    8,    5,    9,    7,    7,    7,    5,    8],\n",
       "        [   2,    3,    6,    7, 8999, 8999,    3,    7,    2, 8999]])"
      ]
     },
     "execution_count": 98,
     "metadata": {},
     "output_type": "execute_result"
    }
   ],
   "source": [
    "random_token_ids"
   ]
  },
  {
   "cell_type": "code",
   "execution_count": 95,
   "metadata": {},
   "outputs": [
    {
     "data": {
      "text/plain": [
       "23"
      ]
     },
     "execution_count": 95,
     "metadata": {},
     "output_type": "execute_result"
    }
   ],
   "source": [
    "torch.where(torch.isin(random_token_ids, mask_pad_ids))[0].shape[0]"
   ]
  },
  {
   "cell_type": "code",
   "execution_count": 69,
   "metadata": {},
   "outputs": [
    {
     "data": {
      "text/plain": [
       "tensor([0, 1, 2, 7, 8, 4, 7, 1, 2, 3, 3, 4, 5, 0, 1, 5, 7, 5, 2, 4, 8])"
      ]
     },
     "execution_count": 69,
     "metadata": {},
     "output_type": "execute_result"
    }
   ],
   "source": [
    "idx"
   ]
  },
  {
   "cell_type": "code",
   "execution_count": 38,
   "metadata": {},
   "outputs": [
    {
     "data": {
      "text/plain": [
       "tensor([9, 6])"
      ]
     },
     "execution_count": 38,
     "metadata": {},
     "output_type": "execute_result"
    }
   ],
   "source": [
    "generate_random_token_ids(shape[0], 10, 0, 1)"
   ]
  },
  {
   "cell_type": "code",
   "execution_count": 82,
   "metadata": {},
   "outputs": [
    {
     "name": "stdout",
     "output_type": "stream",
     "text": [
      "(tensor([0, 1, 1, 1, 1, 2, 2, 3, 3, 4, 5, 5, 5, 6, 6, 6, 6, 7, 8, 9, 9]),)\n",
      "(tensor([0, 1, 2, 7, 8, 4, 7, 1, 2, 3, 3, 4, 5, 0, 1, 5, 7, 5, 2, 4, 8]),)\n"
     ]
    }
   ],
   "source": [
    "for i in zip(torch.where(torch.isin(random_token_ids, mask_pad_ids))):\n",
    "    print(i)"
   ]
  },
  {
   "cell_type": "code",
   "execution_count": 83,
   "metadata": {},
   "outputs": [
    {
     "data": {
      "text/plain": [
       "(tensor([0, 1, 2, 7, 8, 4, 7, 1, 2, 3, 3, 4, 5, 0, 1, 5, 7, 5, 2, 4, 8]),)"
      ]
     },
     "execution_count": 83,
     "metadata": {},
     "output_type": "execute_result"
    }
   ],
   "source": [
    "i"
   ]
  },
  {
   "cell_type": "code",
   "execution_count": null,
   "metadata": {},
   "outputs": [],
   "source": []
  },
  {
   "cell_type": "code",
   "execution_count": null,
   "metadata": {},
   "outputs": [],
   "source": []
  },
  {
   "cell_type": "code",
   "execution_count": null,
   "metadata": {},
   "outputs": [],
   "source": []
  },
  {
   "cell_type": "code",
   "execution_count": null,
   "metadata": {},
   "outputs": [],
   "source": []
  },
  {
   "cell_type": "code",
   "execution_count": null,
   "metadata": {},
   "outputs": [],
   "source": []
  },
  {
   "cell_type": "code",
   "execution_count": 31,
   "metadata": {},
   "outputs": [
    {
     "data": {
      "text/plain": [
       "tensor([[2525, 4596, 6273],\n",
       "        [9089, 7084, 7376],\n",
       "        [ 438, 3493,  377],\n",
       "        [2301, 1600, 1750],\n",
       "        [4431, 1435, 7902],\n",
       "        [2200, 7751, 5985],\n",
       "        [8640, 9921, 2891],\n",
       "        [9185, 9840, 8964],\n",
       "        [1357, 7936, 1945],\n",
       "        [6555, 4625, 2808]])"
      ]
     },
     "execution_count": 31,
     "metadata": {},
     "output_type": "execute_result"
    }
   ],
   "source": [
    "torch.randint(2, 10000, (10,3))"
   ]
  },
  {
   "cell_type": "code",
   "execution_count": 144,
   "metadata": {},
   "outputs": [],
   "source": [
    "import torch \n",
    "\n",
    "input_tokens = torch.tensor([\n",
    "    [0, 1, 2, 3, 4, 5, 6, 7, 0, 0],\n",
    "    [0, 1, 2, 3, 4, 5, 6, 7, 8, 9],\n",
    "])\n",
    "\n",
    "mlm_prob = 0.5\n",
    "pad_token_id = 0\n",
    "mask_token_id = 5000\n",
    "vocab_size = 256\n",
    "\n",
    "mask = torch.rand(input_tokens.size()) < mlm_prob # create a mask of true and false\n",
    "mask &= input_tokens != pad_token_id # do not mask padding\n",
    "mask &= input_tokens != mask_token_id # do not mask mask token\n",
    "mlm_data = input_tokens.clone() # create a copy of the original tensor\n",
    "\n",
    "## get the indices of the mask\n",
    "mask_idx = mask.nonzero(as_tuple=True)"
   ]
  },
  {
   "cell_type": "code",
   "execution_count": 145,
   "metadata": {},
   "outputs": [
    {
     "data": {
      "text/plain": [
       "tensor([[False,  True,  True, False,  True, False,  True,  True, False, False],\n",
       "        [False, False,  True,  True, False, False,  True, False, False, False]])"
      ]
     },
     "execution_count": 145,
     "metadata": {},
     "output_type": "execute_result"
    }
   ],
   "source": [
    "mask"
   ]
  },
  {
   "cell_type": "code",
   "execution_count": 146,
   "metadata": {},
   "outputs": [
    {
     "data": {
      "text/plain": [
       "(tensor([0, 0, 0, 0, 0, 1, 1, 1]), tensor([1, 2, 4, 6, 7, 2, 3, 6]))"
      ]
     },
     "execution_count": 146,
     "metadata": {},
     "output_type": "execute_result"
    }
   ],
   "source": [
    "mask_idx"
   ]
  },
  {
   "cell_type": "code",
   "execution_count": 147,
   "metadata": {},
   "outputs": [
    {
     "data": {
      "text/plain": [
       "tensor([0, 1, 5, 4, 6, 7, 3, 2])"
      ]
     },
     "execution_count": 147,
     "metadata": {},
     "output_type": "execute_result"
    }
   ],
   "source": [
    "## 80% is masked\n",
    "random_shuffle = torch.randperm(mask_idx[0].shape[0])\n",
    "random_shuffle"
   ]
  },
  {
   "cell_type": "code",
   "execution_count": 148,
   "metadata": {},
   "outputs": [],
   "source": [
    "replace_idx = random_shuffle[:int(mask_idx[0].shape[0] * 0.8)]\n",
    "keep_idx = random_shuffle[int(mask_idx[0].shape[0] * 0.8):int(mask_idx[0].shape[0] * 0.9)]\n",
    "ramdom_idx = random_shuffle[int(mask_idx[0].shape[0] * 0.9):]"
   ]
  },
  {
   "cell_type": "code",
   "execution_count": 159,
   "metadata": {},
   "outputs": [
    {
     "data": {
      "text/plain": [
       "tensor([2])"
      ]
     },
     "execution_count": 159,
     "metadata": {},
     "output_type": "execute_result"
    }
   ],
   "source": [
    "random_shuffle[int(mask_idx[0].shape[0] * 0.9):]"
   ]
  },
  {
   "cell_type": "code",
   "execution_count": 167,
   "metadata": {},
   "outputs": [
    {
     "data": {
      "text/plain": [
       "0"
      ]
     },
     "execution_count": 167,
     "metadata": {},
     "output_type": "execute_result"
    }
   ],
   "source": [
    "int(mask_idx[0].shape[0] * 0.1)"
   ]
  },
  {
   "cell_type": "code",
   "execution_count": 165,
   "metadata": {},
   "outputs": [
    {
     "data": {
      "text/plain": [
       "tensor([2])"
      ]
     },
     "execution_count": 165,
     "metadata": {},
     "output_type": "execute_result"
    }
   ],
   "source": [
    "random_shuffle[int(mask_idx[0].shape[0] * 0.9):]"
   ]
  },
  {
   "cell_type": "code",
   "execution_count": 149,
   "metadata": {},
   "outputs": [
    {
     "data": {
      "text/plain": [
       "tensor([0, 1, 5, 4, 6, 7])"
      ]
     },
     "execution_count": 149,
     "metadata": {},
     "output_type": "execute_result"
    }
   ],
   "source": [
    "replace_idx"
   ]
  },
  {
   "cell_type": "code",
   "execution_count": 150,
   "metadata": {},
   "outputs": [
    {
     "data": {
      "text/plain": [
       "tensor([3])"
      ]
     },
     "execution_count": 150,
     "metadata": {},
     "output_type": "execute_result"
    }
   ],
   "source": [
    "keep_idx"
   ]
  },
  {
   "cell_type": "code",
   "execution_count": 151,
   "metadata": {},
   "outputs": [
    {
     "data": {
      "text/plain": [
       "tensor([2])"
      ]
     },
     "execution_count": 151,
     "metadata": {},
     "output_type": "execute_result"
    }
   ],
   "source": [
    "ramdom_idx"
   ]
  },
  {
   "cell_type": "code",
   "execution_count": 152,
   "metadata": {},
   "outputs": [
    {
     "data": {
      "text/plain": [
       "(tensor([0, 0, 1, 0, 1, 1]), tensor([1, 2, 2, 7, 3, 6]))"
      ]
     },
     "execution_count": 152,
     "metadata": {},
     "output_type": "execute_result"
    }
   ],
   "source": [
    "mask_idx[0][replace_idx], mask_idx[1][replace_idx]"
   ]
  },
  {
   "cell_type": "code",
   "execution_count": 153,
   "metadata": {},
   "outputs": [
    {
     "data": {
      "text/plain": [
       "(tensor([0]), tensor([6]))"
      ]
     },
     "execution_count": 153,
     "metadata": {},
     "output_type": "execute_result"
    }
   ],
   "source": [
    "mask_idx[0][keep_idx], mask_idx[1][keep_idx]"
   ]
  },
  {
   "cell_type": "code",
   "execution_count": 154,
   "metadata": {},
   "outputs": [
    {
     "data": {
      "text/plain": [
       "(tensor([0]), tensor([4]))"
      ]
     },
     "execution_count": 154,
     "metadata": {},
     "output_type": "execute_result"
    }
   ],
   "source": [
    "mask_idx[0][ramdom_idx], mask_idx[1][ramdom_idx]"
   ]
  },
  {
   "cell_type": "code",
   "execution_count": 155,
   "metadata": {},
   "outputs": [],
   "source": [
    "mlm_data[mask_idx[0][replace_idx], mask_idx[1][replace_idx]] = 5000"
   ]
  },
  {
   "cell_type": "code",
   "execution_count": 156,
   "metadata": {},
   "outputs": [],
   "source": [
    "# replace with random token\n",
    "mlm_data[mask_idx[0][ramdom_idx], mask_idx[1][ramdom_idx]] = torch.randint(0, vocab_size, (ramdom_idx.shape[0],))"
   ]
  },
  {
   "cell_type": "code",
   "execution_count": 157,
   "metadata": {},
   "outputs": [
    {
     "data": {
      "text/plain": [
       "tensor([[   0, 5000, 5000,    3,  111,    5,    6, 5000,    0,    0],\n",
       "        [   0,    1, 5000, 5000,    4,    5, 5000,    7,    8,    9]])"
      ]
     },
     "execution_count": 157,
     "metadata": {},
     "output_type": "execute_result"
    }
   ],
   "source": [
    "mlm_data"
   ]
  },
  {
   "cell_type": "code",
   "execution_count": 158,
   "metadata": {},
   "outputs": [
    {
     "data": {
      "text/plain": [
       "tensor([[-100,    1,    2, -100,    4, -100,    6,    7, -100, -100],\n",
       "        [-100, -100,    2,    3, -100, -100,    6, -100, -100, -100]])"
      ]
     },
     "execution_count": 158,
     "metadata": {},
     "output_type": "execute_result"
    }
   ],
   "source": [
    "labels = input_tokens.clone()\n",
    "labels[~mask] = -100\n",
    "labels"
   ]
  },
  {
   "cell_type": "code",
   "execution_count": null,
   "metadata": {},
   "outputs": [],
   "source": []
  },
  {
   "cell_type": "code",
   "execution_count": 125,
   "metadata": {},
   "outputs": [
    {
     "data": {
      "text/plain": [
       "tensor([1])"
      ]
     },
     "execution_count": 125,
     "metadata": {},
     "output_type": "execute_result"
    }
   ],
   "source": [
    "mlm_data[mask_idx[0][ramdom_idx], mask_idx[1][ramdom_idx]]"
   ]
  },
  {
   "cell_type": "code",
   "execution_count": 137,
   "metadata": {},
   "outputs": [
    {
     "data": {
      "text/plain": [
       "tensor([156])"
      ]
     },
     "execution_count": 137,
     "metadata": {},
     "output_type": "execute_result"
    }
   ],
   "source": [
    "torch.randint(0, vocab_size, (ramdom_idx.shape[0],))"
   ]
  },
  {
   "cell_type": "code",
   "execution_count": null,
   "metadata": {},
   "outputs": [],
   "source": []
  },
  {
   "cell_type": "code",
   "execution_count": null,
   "metadata": {},
   "outputs": [],
   "source": []
  },
  {
   "cell_type": "code",
   "execution_count": null,
   "metadata": {},
   "outputs": [],
   "source": []
  },
  {
   "cell_type": "code",
   "execution_count": null,
   "metadata": {},
   "outputs": [],
   "source": []
  },
  {
   "cell_type": "code",
   "execution_count": 10,
   "metadata": {},
   "outputs": [],
   "source": [
    "import torch\n",
    "input_tokens = torch.tensor([\n",
    "    [0, 1, 2, 3, 4, 5, 6, 7, 0, 0],\n",
    "    [0, 1, 2, 3, 4, 5, 6, 7, 8, 9],\n",
    "])"
   ]
  },
  {
   "cell_type": "code",
   "execution_count": 11,
   "metadata": {},
   "outputs": [
    {
     "data": {
      "text/plain": [
       "tensor([[0, 1, 2, 3, 4, 5, 6, 7, 0, 0],\n",
       "        [0, 1, 2, 3, 4, 5, 6, 7, 8, 9]])"
      ]
     },
     "execution_count": 11,
     "metadata": {},
     "output_type": "execute_result"
    }
   ],
   "source": [
    "input_tokens"
   ]
  },
  {
   "cell_type": "code",
   "execution_count": 29,
   "metadata": {},
   "outputs": [],
   "source": [
    "mask = torch.randn(input_tokens.shape) < 0.15\n",
    "mask &= (input_tokens != 0)\n",
    "\n",
    "mlm_data = input_tokens.clone()\n",
    "mask_idx = mask.nonzero(as_tuple=True)\n",
    "mlm_data[mask_idx] = 5000"
   ]
  },
  {
   "cell_type": "code",
   "execution_count": 57,
   "metadata": {},
   "outputs": [
    {
     "data": {
      "text/plain": [
       "tensor([[False,  True, False, False, False, False,  True,  True, False, False],\n",
       "        [False,  True, False,  True,  True,  True, False, False,  True, False]])"
      ]
     },
     "execution_count": 57,
     "metadata": {},
     "output_type": "execute_result"
    }
   ],
   "source": [
    "mask"
   ]
  },
  {
   "cell_type": "code",
   "execution_count": 30,
   "metadata": {},
   "outputs": [
    {
     "data": {
      "text/plain": [
       "(tensor([0, 0, 0, 1, 1, 1, 1, 1]), tensor([1, 6, 7, 1, 3, 4, 5, 8]))"
      ]
     },
     "execution_count": 30,
     "metadata": {},
     "output_type": "execute_result"
    }
   ],
   "source": [
    "mask_idx"
   ]
  },
  {
   "cell_type": "code",
   "execution_count": 31,
   "metadata": {},
   "outputs": [
    {
     "data": {
      "text/plain": [
       "tensor([[   0, 5000,    2,    3,    4,    5, 5000, 5000,    0,    0],\n",
       "        [   0, 5000,    2, 5000, 5000, 5000,    6,    7, 5000,    9]])"
      ]
     },
     "execution_count": 31,
     "metadata": {},
     "output_type": "execute_result"
    }
   ],
   "source": [
    "mlm_data"
   ]
  },
  {
   "cell_type": "code",
   "execution_count": 32,
   "metadata": {},
   "outputs": [],
   "source": [
    "replace_idx = mask_idx[0][torch.randperm(mask_idx[0].shape[0])] \n",
    "keep_idx = mask_idx[0][torch.randperm(mask_idx[0].shape[0])]"
   ]
  },
  {
   "cell_type": "code",
   "execution_count": 35,
   "metadata": {},
   "outputs": [
    {
     "data": {
      "text/plain": [
       "[tensor([1, 1, 1, 0, 1, 1, 0, 0]), tensor([5, 3, 4, 6, 8, 1, 7, 1])]"
      ]
     },
     "execution_count": 35,
     "metadata": {},
     "output_type": "execute_result"
    }
   ],
   "source": [
    "rand_shuffle = torch.randperm(mask_idx[0].shape[0])\n",
    "mask_idx_shuffle = [mask_idx[0][rand_shuffle],mask_idx[1][rand_shuffle]]\n",
    "mask_idx_shuffle"
   ]
  },
  {
   "cell_type": "code",
   "execution_count": 38,
   "metadata": {},
   "outputs": [
    {
     "data": {
      "text/plain": [
       "tensor([5000, 5000, 5000, 5000, 5000, 5000, 5000, 5000])"
      ]
     },
     "execution_count": 38,
     "metadata": {},
     "output_type": "execute_result"
    }
   ],
   "source": [
    "mlm_data[mask_idx_shuffle]"
   ]
  },
  {
   "cell_type": "code",
   "execution_count": 56,
   "metadata": {},
   "outputs": [
    {
     "data": {
      "text/plain": [
       "tensor([1, 1, 1, 0, 1, 1])"
      ]
     },
     "execution_count": 56,
     "metadata": {},
     "output_type": "execute_result"
    }
   ],
   "source": [
    "mask_idx_shuffle[0][:int(0.8*mask_idx_shuffle[0].shape[0])]"
   ]
  },
  {
   "cell_type": "code",
   "execution_count": 55,
   "metadata": {},
   "outputs": [
    {
     "ename": "SyntaxError",
     "evalue": "invalid syntax (3710636772.py, line 1)",
     "output_type": "error",
     "traceback": [
      "\u001b[0;36m  Cell \u001b[0;32mIn[55], line 1\u001b[0;36m\u001b[0m\n\u001b[0;31m    [:int(0.8*mask_idx_shuffle[0].shape[0])]\u001b[0m\n\u001b[0m     ^\u001b[0m\n\u001b[0;31mSyntaxError\u001b[0m\u001b[0;31m:\u001b[0m invalid syntax\n"
     ]
    }
   ],
   "source": [
    "[:int(0.8*mask_idx_shuffle[0].shape[0])]"
   ]
  },
  {
   "cell_type": "code",
   "execution_count": 5,
   "metadata": {},
   "outputs": [
    {
     "data": {
      "text/plain": [
       "[tensor([0, 0, 1, 1, 1, 1, 0, 1, 1, 0, 0, 0, 0]),\n",
       " tensor([5, 2, 8, 3, 1, 4, 4, 6, 9, 1, 7, 5, 3])]"
      ]
     },
     "execution_count": 5,
     "metadata": {},
     "output_type": "execute_result"
    }
   ],
   "source": [
    "mask_idx_shuffle = [mask_idx[0][torch.randperm(mask_idx[0].shape[0])],mask_idx[1][torch.randperm(mask_idx[0].shape[0])]]\n",
    "mask_idx_shuffle"
   ]
  },
  {
   "cell_type": "code",
   "execution_count": null,
   "metadata": {},
   "outputs": [],
   "source": []
  },
  {
   "cell_type": "code",
   "execution_count": 7,
   "metadata": {},
   "outputs": [
    {
     "data": {
      "text/plain": [
       "tensor([0, 1, 1, 0, 0, 0, 1, 1, 1, 0, 1, 0, 0])"
      ]
     },
     "execution_count": 7,
     "metadata": {},
     "output_type": "execute_result"
    }
   ],
   "source": [
    "replace_idx = mask_idx[0][torch.randperm(mask_idx[0].shape[0])]\n",
    "replace_idx"
   ]
  },
  {
   "cell_type": "code",
   "execution_count": 8,
   "metadata": {},
   "outputs": [],
   "source": [
    "mlm_data[replace_idx[:int(0.8*len(replace_idx))], mask_idx[1][:int(0.8*len(replace_idx))]] = 5000"
   ]
  },
  {
   "cell_type": "code",
   "execution_count": 9,
   "metadata": {},
   "outputs": [
    {
     "data": {
      "text/plain": [
       "tensor([[   0, 5000, 5000, 5000, 5000, 5000, 5000, 5000,    0,    0],\n",
       "        [   0, 5000, 5000, 5000, 5000, 5000,    6, 5000, 5000, 5000]])"
      ]
     },
     "execution_count": 9,
     "metadata": {},
     "output_type": "execute_result"
    }
   ],
   "source": [
    "mlm_data"
   ]
  },
  {
   "cell_type": "code",
   "execution_count": null,
   "metadata": {},
   "outputs": [],
   "source": []
  },
  {
   "cell_type": "code",
   "execution_count": 135,
   "metadata": {},
   "outputs": [
    {
     "data": {
      "text/plain": [
       "tensor([0, 1, 1, 0, 0, 0, 0, 1, 1, 0])"
      ]
     },
     "execution_count": 135,
     "metadata": {},
     "output_type": "execute_result"
    }
   ],
   "source": [
    "mask_idx[0][torch.randperm(mask_idx[0].shape[0])]"
   ]
  },
  {
   "cell_type": "code",
   "execution_count": 137,
   "metadata": {},
   "outputs": [
    {
     "data": {
      "text/plain": [
       "(tensor([1, 1, 1, 0, 0, 0, 1]), tensor([2, 3, 4, 5, 6, 7, 5]))"
      ]
     },
     "execution_count": 137,
     "metadata": {},
     "output_type": "execute_result"
    }
   ],
   "source": [
    "replace_idx[:int(0.8*len(replace_idx))], mask_idx[1][:int(0.8*len(replace_idx))]"
   ]
  },
  {
   "cell_type": "code",
   "execution_count": null,
   "metadata": {},
   "outputs": [],
   "source": []
  },
  {
   "cell_type": "code",
   "execution_count": 125,
   "metadata": {},
   "outputs": [],
   "source": [
    "def mlm_masking(data, mlm_prob = 0.15, pad_token_id = 0, mask_token_id = 1, vocab_size = 256):\n",
    "    '''\n",
    "    Masking the input data for the MLM task\n",
    "    '''\n",
    "    mask = torch.rand(data.shape) < mlm_prob\n",
    "    mask &= (data != pad_token_id) # do not mask padding\n",
    "    mask &= (data != mask_token_id) # do not mask mask token\n",
    "    mlm_data = data.clone()\n",
    "    mask_idx = mask.nonzero(as_tuple=True)\n",
    "    mlm_data[mask_idx] = mask_token_id\n",
    "\n",
    "    # 80% of the time, replace with [MASK]\n",
    "    replace_idx = mask_idx[0][torch.randperm(mask_idx[0].shape[0])]\n",
    "    mlm_data[replace_idx[:int(0.8*len(replace_idx))], mask_idx[1][:int(0.8*len(replace_idx))]] = mask_token_id\n",
    "\n",
    "    # 10% of the time, keep original\n",
    "    keep_idx = mask_idx[0][torch.randperm(mask_idx[0].shape[0])]\n",
    "    mlm_data[keep_idx[int(0.8*len(keep_idx)):], mask_idx[1][int(0.8*len(keep_idx))]] = data[keep_idx[int(0.8*len(keep_idx)):], mask_idx[1][int(0.8*len(keep_idx)):]]\n",
    "    return mlm_data, mask"
   ]
  },
  {
   "cell_type": "code",
   "execution_count": 134,
   "metadata": {},
   "outputs": [
    {
     "data": {
      "text/plain": [
       "(tensor([[0, 1, 1, 3, 4, 5, 6, 7, 0, 0],\n",
       "         [0, 1, 2, 3, 1, 5, 6, 7, 8, 9]]),\n",
       " tensor([[False, False,  True, False, False, False, False, False, False, False],\n",
       "         [False, False, False, False,  True, False, False, False, False, False]]))"
      ]
     },
     "execution_count": 134,
     "metadata": {},
     "output_type": "execute_result"
    }
   ],
   "source": [
    "mlm_masking(input_tokens)"
   ]
  },
  {
   "cell_type": "code",
   "execution_count": null,
   "metadata": {},
   "outputs": [],
   "source": []
  }
 ],
 "metadata": {
  "kernelspec": {
   "display_name": "smallville",
   "language": "python",
   "name": "python3"
  },
  "language_info": {
   "codemirror_mode": {
    "name": "ipython",
    "version": 3
   },
   "file_extension": ".py",
   "mimetype": "text/x-python",
   "name": "python",
   "nbconvert_exporter": "python",
   "pygments_lexer": "ipython3",
   "version": "3.11.9"
  }
 },
 "nbformat": 4,
 "nbformat_minor": 2
}
