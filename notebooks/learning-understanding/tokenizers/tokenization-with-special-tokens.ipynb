{
 "cells": [
  {
   "cell_type": "markdown",
   "metadata": {},
   "source": [
    "## Workings for the new character level tokenizer\n",
    "\n",
    "The key trait of this function is to incorporate special tokens like mask and pad."
   ]
  },
  {
   "cell_type": "code",
   "execution_count": 1,
   "metadata": {},
   "outputs": [],
   "source": [
    "## creating the character_new class\n",
    "\n",
    "import re\n",
    "\n",
    "class character_new:\n",
    "    def __init__(self, text_path):\n",
    "        ## Load the text file\n",
    "        with open(text_path, 'r') as file:\n",
    "            self.text = file.read()\n",
    "        \n",
    "        ## check special_tokens_dict\n",
    "        self.pad_token = '<pad>'\n",
    "        self.unk_token = '<unk>'\n",
    "        self.bos_token = '<bos>'\n",
    "        self.eos_token = '<eos>'\n",
    "        self.mask_token = '<mask>'\n",
    "        self.special_tokens_dict = {self.pad_token : 0, self.unk_token : 1, self.bos_token : 2, self.eos_token : 3, self.mask_token : 4}\n",
    "\n",
    "        ## Create the character to index and index to character mapping\n",
    "        self.chars = sorted(list(set(self.text)))\n",
    "        self.vocab_size = len(self.chars)\n",
    "        self.vocab_offset = max(self.special_tokens_dict.values()) + 1\n",
    "        self.vocab = {char: index + self.vocab_offset for index, char in enumerate(self.chars)}\n",
    "        self.vocab.update(self.special_tokens_dict)\n",
    "\n",
    "        ## Create the character to index and index to character mapping\n",
    "        self.char_to_index = {char: index for char, index in self.vocab.items()}\n",
    "        self.index_to_char = {index: char for char, index in self.vocab.items()}\n",
    "\n",
    "        ## Add special tokens to the mapping\n",
    "\n",
    "    def pre_tokenize(self, given_text):\n",
    "        ## escape special tokens for regex\n",
    "        escaped_tokens = [re.escape(token) for token in self.special_tokens_dict.keys()]\n",
    "        \n",
    "        ## join the escaped tokens\n",
    "        special_tokens_pattern = '|'.join(escaped_tokens)\n",
    "\n",
    "        ## split the text using the pattern, but keep special tokens intact\n",
    "        parts = re.split(f'({special_tokens_pattern})', given_text)\n",
    "\n",
    "        ## process parts to combine spaces with non-special tokens\n",
    "        tokens = []\n",
    "        for part in parts:\n",
    "            if part in [self.pad_token, self.unk_token, self.bos_token, self.eos_token]:\n",
    "                tokens.append(part)\n",
    "            else:\n",
    "                # Find words and spaces, and combine them\n",
    "                sub_tokens = re.findall(r'\\s*\\S+|\\s+', part)\n",
    "                tokens.extend(sub_tokens)\n",
    "        return tokens\n",
    "    \n",
    "    def encode(self, given_text):\n",
    "        pre_tokenized_text = self.pre_tokenize(given_text)\n",
    "        splits =[[word] if any(substring in word for substring in self.special_tokens_dict.keys()) else [l for l in word] for word in pre_tokenized_text]\n",
    "        flattened_splits = sum(splits,[])\n",
    "        res = [self.char_to_index.get(char, self.char_to_index[self.unk_token]) for char in flattened_splits]\n",
    "        return res\n",
    "\n",
    "    def decode(self, indices):\n",
    "        return ''.join([self.index_to_char.get(index, self.unk_token) for index in indices])\n"
   ]
  },
  {
   "cell_type": "code",
   "execution_count": 2,
   "metadata": {},
   "outputs": [
    {
     "data": {
      "text/plain": [
       "'<pad>|<unk>|<bos>|<eos>'"
      ]
     },
     "execution_count": 2,
     "metadata": {},
     "output_type": "execute_result"
    }
   ],
   "source": [
    "## an example of how the escaped tokens will behave like\n",
    "import re\n",
    "\n",
    "escaped_tokens = [re.escape(token) for token in ['<pad>', '<unk>', '<bos>', '<eos>']]\n",
    "'|'.join(escaped_tokens)"
   ]
  },
  {
   "cell_type": "code",
   "execution_count": 3,
   "metadata": {},
   "outputs": [],
   "source": [
    "tokenizer = character_new('/home/bobby/code-repo/astar-projects/project-smallville/data/input.txt')"
   ]
  },
  {
   "cell_type": "code",
   "execution_count": 4,
   "metadata": {},
   "outputs": [
    {
     "data": {
      "text/plain": [
       "[51, 48, 55, 55, 58, 6, 0, 6, 66, 58, 61, 55, 47]"
      ]
     },
     "execution_count": 4,
     "metadata": {},
     "output_type": "execute_result"
    }
   ],
   "source": [
    "tokenizer.encode('hello <pad> world')"
   ]
  },
  {
   "cell_type": "code",
   "execution_count": 5,
   "metadata": {},
   "outputs": [
    {
     "data": {
      "text/plain": [
       "'hello <pad> world<unk>'"
      ]
     },
     "execution_count": 5,
     "metadata": {},
     "output_type": "execute_result"
    }
   ],
   "source": [
    "tokenizer.decode(tokenizer.encode('hello <pad> world_'))"
   ]
  },
  {
   "cell_type": "code",
   "execution_count": 6,
   "metadata": {},
   "outputs": [
    {
     "data": {
      "text/plain": [
       "{'\\n': 5,\n",
       " ' ': 6,\n",
       " '!': 7,\n",
       " '$': 8,\n",
       " '&': 9,\n",
       " \"'\": 10,\n",
       " ',': 11,\n",
       " '-': 12,\n",
       " '.': 13,\n",
       " '3': 14,\n",
       " ':': 15,\n",
       " ';': 16,\n",
       " '?': 17,\n",
       " 'A': 18,\n",
       " 'B': 19,\n",
       " 'C': 20,\n",
       " 'D': 21,\n",
       " 'E': 22,\n",
       " 'F': 23,\n",
       " 'G': 24,\n",
       " 'H': 25,\n",
       " 'I': 26,\n",
       " 'J': 27,\n",
       " 'K': 28,\n",
       " 'L': 29,\n",
       " 'M': 30,\n",
       " 'N': 31,\n",
       " 'O': 32,\n",
       " 'P': 33,\n",
       " 'Q': 34,\n",
       " 'R': 35,\n",
       " 'S': 36,\n",
       " 'T': 37,\n",
       " 'U': 38,\n",
       " 'V': 39,\n",
       " 'W': 40,\n",
       " 'X': 41,\n",
       " 'Y': 42,\n",
       " 'Z': 43,\n",
       " 'a': 44,\n",
       " 'b': 45,\n",
       " 'c': 46,\n",
       " 'd': 47,\n",
       " 'e': 48,\n",
       " 'f': 49,\n",
       " 'g': 50,\n",
       " 'h': 51,\n",
       " 'i': 52,\n",
       " 'j': 53,\n",
       " 'k': 54,\n",
       " 'l': 55,\n",
       " 'm': 56,\n",
       " 'n': 57,\n",
       " 'o': 58,\n",
       " 'p': 59,\n",
       " 'q': 60,\n",
       " 'r': 61,\n",
       " 's': 62,\n",
       " 't': 63,\n",
       " 'u': 64,\n",
       " 'v': 65,\n",
       " 'w': 66,\n",
       " 'x': 67,\n",
       " 'y': 68,\n",
       " 'z': 69,\n",
       " '<pad>': 0,\n",
       " '<unk>': 1,\n",
       " '<bos>': 2,\n",
       " '<eos>': 3,\n",
       " '<mask>': 4}"
      ]
     },
     "execution_count": 6,
     "metadata": {},
     "output_type": "execute_result"
    }
   ],
   "source": [
    "tokenizer.vocab"
   ]
  }
 ],
 "metadata": {
  "kernelspec": {
   "display_name": "smallville",
   "language": "python",
   "name": "python3"
  },
  "language_info": {
   "codemirror_mode": {
    "name": "ipython",
    "version": 3
   },
   "file_extension": ".py",
   "mimetype": "text/x-python",
   "name": "python",
   "nbconvert_exporter": "python",
   "pygments_lexer": "ipython3",
   "version": "3.11.9"
  }
 },
 "nbformat": 4,
 "nbformat_minor": 2
}
